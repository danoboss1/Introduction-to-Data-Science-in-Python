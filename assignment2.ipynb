{
 "cells": [
  {
   "cell_type": "markdown",
   "metadata": {
    "deletable": false,
    "editable": false,
    "etc_identifier": "373a3605-5bda-4e1f-beef-04a0173d3f41",
    "nbgrader": {
     "cell_type": "markdown",
     "checksum": "ea942292eff37b50f364f842bcdd8ad9",
     "grade": false,
     "grade_id": "cell-a839e7b47494b4c3",
     "locked": true,
     "schema_version": 3,
     "solution": false
    }
   },
   "source": [
    "# Assignment 2\n",
    "\n",
    "For this assignment you'll be looking at 2017 data on immunizations from the CDC. Your datafile for this assignment is in [assets/NISPUF17.csv](assets/NISPUF17.csv). A data users guide for this, which you'll need to map the variables in the data to the questions being asked, is available at [assets/NIS-PUF17-DUG.pdf](assets/NIS-PUF17-DUG.pdf). **Note: you may have to go to your Jupyter tree (click on the Coursera image) and navigate to the assignment 2 assets folder to see this PDF file).**"
   ]
  },
  {
   "cell_type": "code",
   "execution_count": 22,
   "metadata": {},
   "outputs": [
    {
     "name": "stdout",
     "output_type": "stream",
     "text": [
      "Vsetky hodnoty su vyplnene\n",
      "28465\n"
     ]
    },
    {
     "data": {
      "text/plain": [
       "0        4\n",
       "1        3\n",
       "2        3\n",
       "3        4\n",
       "4        1\n",
       "        ..\n",
       "28460    3\n",
       "28461    2\n",
       "28462    3\n",
       "28463    2\n",
       "28464    4\n",
       "Name: EDUC1, Length: 28465, dtype: int64"
      ]
     },
     "execution_count": 22,
     "metadata": {},
     "output_type": "execute_result"
    }
   ],
   "source": [
    "import pandas as pd\n",
    "\n",
    "df = pd.read_csv('assets/NISPUF17.csv')\n",
    "df['EDUC1']\n",
    "\n",
    "full_check = df['EDUC1'].notna().all()\n",
    "if(full_check):\n",
    "    print(\"Vsetky hodnoty su vyplnene\")\n",
    "    \n",
    "missing_values = df['EDUC1'].isna().sum()\n",
    "missing_values\n",
    "\n",
    "print(len(df['EDUC1']))\n",
    "df['EDUC1']"
   ]
  },
  {
   "cell_type": "code",
   "execution_count": 24,
   "metadata": {},
   "outputs": [
    {
     "name": "stdout",
     "output_type": "stream",
     "text": [
      "{'less than high school': 0.10202002459160373, 'high school': 0.172352011241876, 'more than high school but not college': 0.24588090637625154, 'college': 0.47974705779026877}\n"
     ]
    }
   ],
   "source": [
    "import pandas as pd\n",
    "\n",
    "df = pd.read_csv('assets/NISPUF17.csv')\n",
    "\n",
    "less_than_high_school = 0\n",
    "high_school = 0\n",
    "more_than_high_school_but_not_college = 0\n",
    "college = 0\n",
    "length = len(df['EDUC1'])\n",
    "\n",
    "for value in df['EDUC1']:\n",
    "    if value == 1:\n",
    "        less_than_high_school += 1\n",
    "    elif value == 2:\n",
    "        high_school += 1\n",
    "    elif value == 3:\n",
    "        more_than_high_school_but_not_college += 1\n",
    "    elif value == 4:\n",
    "        college += 1\n",
    "\n",
    "result = {\"less than high school\":less_than_high_school / length,\n",
    "        \"high school\":high_school / length,\n",
    "        \"more than high school but not college\":more_than_high_school_but_not_college / length,\n",
    "        \"college\":college / length}\n",
    "    \n",
    "print(result)"
   ]
  },
  {
   "cell_type": "markdown",
   "metadata": {
    "deletable": false,
    "editable": false,
    "hideCode": false,
    "hidePrompt": false,
    "nbgrader": {
     "cell_type": "markdown",
     "checksum": "f85bd44672080d80abd2a7f47aa0f1be",
     "grade": false,
     "grade_id": "cell-58fc2e5938733f6a",
     "locked": true,
     "schema_version": 3,
     "solution": false
    }
   },
   "source": [
    "## Question 1\n",
    "Write a function called `proportion_of_education` which returns the proportion of children in the dataset who had a mother with the education levels equal to less than high school (<12), high school (12), more than high school but not a college graduate (>12) and college degree.\n",
    "\n",
    "*This function should return a dictionary in the form of (use the correct numbers, do not round numbers):* \n",
    "```\n",
    "    {\"less than high school\":0.2,\n",
    "    \"high school\":0.4,\n",
    "    \"more than high school but not college\":0.2,\n",
    "    \"college\":0.2}\n",
    "```"
   ]
  },
  {
   "cell_type": "code",
   "execution_count": 25,
   "metadata": {
    "deletable": false,
    "nbgrader": {
     "cell_type": "code",
     "checksum": "0ac58deb3f5ac988c643e903cbee7f3a",
     "grade": false,
     "grade_id": "cell-eea16d020eb52ae7",
     "locked": false,
     "schema_version": 3,
     "solution": true
    }
   },
   "outputs": [],
   "source": [
    "def proportion_of_education():\n",
    "    less_than_high_school = 0\n",
    "    high_school = 0\n",
    "    more_than_high_school_but_not_college = 0\n",
    "    college = 0\n",
    "    \n",
    "    length = len(df['EDUC1'])\n",
    "    \n",
    "    for value in df['EDUC1']:\n",
    "        if value == 1:\n",
    "            less_than_high_school += 1\n",
    "        elif value == 2:\n",
    "            high_school += 1\n",
    "        elif value == 3:\n",
    "            more_than_high_school_but_not_college += 1\n",
    "        elif value == 4:\n",
    "            college += 1\n",
    "            \n",
    "    result = {\"less than high school\":less_than_high_school / length,\n",
    "        \"high school\":high_school / length,\n",
    "        \"more than high school but not college\":more_than_high_school_but_not_college / length,\n",
    "        \"college\":college / length}\n",
    "            \n",
    "    return result\n",
    "    # your code goes here\n",
    "    # YOUR CODE HERE\n",
    "    # raise NotImplementedError()"
   ]
  },
  {
   "cell_type": "code",
   "execution_count": 26,
   "metadata": {
    "deletable": false,
    "editable": false,
    "hideCode": false,
    "hidePrompt": false,
    "nbgrader": {
     "cell_type": "code",
     "checksum": "ac5d91a24a7f72f66c25d242c3d24a50",
     "grade": true,
     "grade_id": "cell-c0eeef201366f51c",
     "locked": true,
     "points": 1,
     "schema_version": 3,
     "solution": false
    }
   },
   "outputs": [],
   "source": [
    "assert type(proportion_of_education())==type({}), \"You must return a dictionary.\"\n",
    "assert len(proportion_of_education()) == 4, \"You have not returned a dictionary with four items in it.\"\n",
    "assert \"less than high school\" in proportion_of_education().keys(), \"You have not returned a dictionary with the correct keys.\"\n",
    "assert \"high school\" in proportion_of_education().keys(), \"You have not returned a dictionary with the correct keys.\"\n",
    "assert \"more than high school but not college\" in proportion_of_education().keys(), \"You have not returned a dictionary with the correct keys.\"\n",
    "assert \"college\" in proportion_of_education().keys(), \"You have not returned a dictionary with the correct keys.\"\n"
   ]
  },
  {
   "cell_type": "markdown",
   "metadata": {
    "deletable": false,
    "editable": false,
    "nbgrader": {
     "cell_type": "markdown",
     "checksum": "562b78b7b9b79580269be0a3bebf4b42",
     "grade": false,
     "grade_id": "cell-8fcbb64516283f52",
     "locked": true,
     "schema_version": 3,
     "solution": false
    }
   },
   "source": [
    "## Question 2\n",
    "\n",
    "Let's explore the relationship between being fed breastmilk as a child and getting a seasonal influenza vaccine from a healthcare provider. Return a tuple of the average number of influenza vaccines for those children we know received breastmilk as a child and those who know did not.\n",
    "\n",
    "*This function should return a tuple in the form (use the correct numbers:*\n",
    "```\n",
    "(2.5, 0.1)\n",
    "```"
   ]
  },
  {
   "cell_type": "code",
   "execution_count": 6,
   "metadata": {},
   "outputs": [
    {
     "name": "stdout",
     "output_type": "stream",
     "text": [
      "['CBF_01', 'P_NUMFLU', 'P_NUMFLUL', 'P_NUMFLUM', 'P_NUMFLUN']\n",
      "count77 110\n",
      "count99 9\n",
      "{1, 2, 99, 77}\n"
     ]
    }
   ],
   "source": [
    "# df[['CBF_O1', 'INFLUENZA']]\n",
    "# columns_starting_with_p_num = [col for col in df.columns if col.startswith('P_NUM')]\n",
    "\n",
    "# v tomto by mali byt vsetky tie hodnoty, ktore potrebujem, cbf je ci boli kojeni a ostatne s tou jednou vakcinou, ale rozne typy danej vakciny\n",
    "looking_for = [col for col in df.columns if col.startswith('P_NUMFL')]\n",
    "looking_for.insert(0, 'CBF_01')\n",
    "print(looking_for)\n",
    "\n",
    "df[looking_for]\n",
    "\n",
    "rozne_hodnoty = set()\n",
    "count77 = 0\n",
    "count99 = 0\n",
    "\n",
    "# tu vobec netusim co robi 77 a 99\n",
    "for value in df['CBF_01']:\n",
    "    rozne_hodnoty.add(value)\n",
    "    if value == 77:\n",
    "        count77 += 1\n",
    "    elif value == 99:\n",
    "        count99 += 1\n",
    "    else:\n",
    "        pass\n",
    "    \n",
    "print(f\"count77 {count77}\")\n",
    "print(f\"count99 {count99}\")\n",
    "\n",
    "print(rozne_hodnoty)\n",
    "# df['FL']"
   ]
  },
  {
   "cell_type": "code",
   "execution_count": 7,
   "metadata": {},
   "outputs": [
    {
     "name": "stdout",
     "output_type": "stream",
     "text": [
      "15333\n"
     ]
    }
   ],
   "source": [
    "import numpy as np\n",
    "\n",
    "rozne_hodnoty2 = set()\n",
    "counter = 0\n",
    "\n",
    "# tu vobec netusim co robi 77 a 99\n",
    "for value in df['P_NUMFLU']:\n",
    "    rozne_hodnoty2.add(value)\n",
    "    if not np.isnan(value):\n",
    "        counter += 1\n",
    "\n",
    "print(counter)\n",
    "# P_NUMFLU by malo byt total count of every type tej vakciny, ktoru hladame"
   ]
  },
  {
   "cell_type": "code",
   "execution_count": 21,
   "metadata": {},
   "outputs": [
    {
     "name": "stdout",
     "output_type": "stream",
     "text": [
      "CBF_01\n",
      "P_NUMFLU\n",
      "13291 1997\n",
      "24986.0 3188.0\n",
      "1.8799187420058687 1.5963945918878317\n"
     ]
    }
   ],
   "source": [
    "import numpy as np\n",
    "\n",
    "for value in df[['CBF_01', 'P_NUMFLU']]:\n",
    "    print(value)\n",
    "\n",
    "cbf_counter_1 = 0\n",
    "cbf1_total_value_count = 0\n",
    "cbf_counter_2 = 0\n",
    "cbf2_total_value_count = 0\n",
    "\n",
    "for index, row in df.iterrows():\n",
    "    if row['CBF_01'] == 1 and not np.isnan(row['P_NUMFLU']):\n",
    "        cbf_counter_1 += 1\n",
    "        cbf1_total_value_count += row['P_NUMFLU']\n",
    "    elif row['CBF_01'] == 2 and not np.isnan(row['P_NUMFLU']):\n",
    "        cbf_counter_2 += 1\n",
    "        cbf2_total_value_count += row['P_NUMFLU']\n",
    "        \n",
    "print(cbf_counter_1, cbf_counter_2) \n",
    "print(cbf1_total_value_count, cbf2_total_value_count)\n",
    "breast_milk_vaccines_average = cbf1_total_value_count / cbf_counter_1\n",
    "no_breast_milk_vaccines_average = cbf2_total_value_count / cbf_counter_2\n",
    "\n",
    "print(breast_milk_vaccines_average, no_breast_milk_vaccines_average)"
   ]
  },
  {
   "cell_type": "code",
   "execution_count": 22,
   "metadata": {
    "deletable": false,
    "nbgrader": {
     "cell_type": "code",
     "checksum": "a405d639063c4a6408365479f29c95c9",
     "grade": false,
     "grade_id": "cell-77f18c512324eabb",
     "locked": false,
     "schema_version": 3,
     "solution": true
    }
   },
   "outputs": [],
   "source": [
    "import numpy as np\n",
    "\n",
    "def average_influenza_doses():\n",
    "    cbf_counter_1 = 0\n",
    "    cbf1_total_value_count = 0\n",
    "    cbf_counter_2 = 0\n",
    "    cbf2_total_value_count = 0\n",
    "\n",
    "    for index, row in df.iterrows():\n",
    "        if row['CBF_01'] == 1 and not np.isnan(row['P_NUMFLU']):\n",
    "            cbf_counter_1 += 1\n",
    "            cbf1_total_value_count += row['P_NUMFLU']\n",
    "        elif row['CBF_01'] == 2 and not np.isnan(row['P_NUMFLU']):\n",
    "            cbf_counter_2 += 1\n",
    "            cbf2_total_value_count += row['P_NUMFLU']\n",
    "\n",
    "    # print(cbf_counter_1, cbf_counter_2) \n",
    "    # print(cbf1_total_value_count, cbf2_total_value_count)\n",
    "    breast_milk_vaccines_average = cbf1_total_value_count / cbf_counter_1\n",
    "    no_breast_milk_vaccines_average = cbf2_total_value_count / cbf_counter_2\n",
    "    \n",
    "    return (breast_milk_vaccines_average, no_breast_milk_vaccines_average)\n",
    "    # raise NotImplementedError()"
   ]
  },
  {
   "cell_type": "code",
   "execution_count": 23,
   "metadata": {
    "deletable": false,
    "editable": false,
    "nbgrader": {
     "cell_type": "code",
     "checksum": "19be955e97fdf7162d43fbb7c2c40951",
     "grade": true,
     "grade_id": "cell-54a3ba6cff31caa7",
     "locked": true,
     "points": 1,
     "schema_version": 3,
     "solution": false
    }
   },
   "outputs": [],
   "source": [
    "assert len(average_influenza_doses())==2, \"Return two values in a tuple, the first for yes and the second for no.\"\n"
   ]
  },
  {
   "cell_type": "markdown",
   "metadata": {
    "deletable": false,
    "editable": false,
    "nbgrader": {
     "cell_type": "markdown",
     "checksum": "e10e2163f5957a0c398ef4f0b76b4efe",
     "grade": false,
     "grade_id": "cell-f63377f3c97aa7c4",
     "locked": true,
     "schema_version": 3,
     "solution": false
    }
   },
   "source": [
    "## Question 3\n",
    "It would be interesting to see if there is any evidence of a link between vaccine effectiveness and sex of the child. Calculate the ratio of the number of children who contracted chickenpox but were vaccinated against it (at least one varicella dose) versus those who were vaccinated but did not contract chicken pox. Return results by sex. \n",
    "\n",
    "*This function should return a dictionary in the form of (use the correct numbers):* \n",
    "```\n",
    "    {\"male\":0.2,\n",
    "    \"female\":0.4}\n",
    "```\n",
    "\n",
    "Note: To aid in verification, the `chickenpox_by_sex()['female']` value the autograder is looking for starts with the digits `0.0077`."
   ]
  },
  {
   "cell_type": "code",
   "execution_count": 7,
   "metadata": {},
   "outputs": [
    {
     "name": "stdout",
     "output_type": "stream",
     "text": [
      "{1, 2, 99, 77}\n"
     ]
    },
    {
     "data": {
      "text/plain": [
       "3        1.0\n",
       "4        0.0\n",
       "6        1.0\n",
       "7        0.0\n",
       "8        0.0\n",
       "        ... \n",
       "28446    1.0\n",
       "28447    1.0\n",
       "28449    1.0\n",
       "28452    1.0\n",
       "28454    1.0\n",
       "Name: P_NUMVRC, Length: 15333, dtype: float64"
      ]
     },
     "execution_count": 7,
     "metadata": {},
     "output_type": "execute_result"
    }
   ],
   "source": [
    "import pandas as pd\n",
    "\n",
    "df = pd.read_csv('assets/NISPUF17.csv')\n",
    "\n",
    "rozne_hodnoty = set()\n",
    "\n",
    "for value in df['HAD_CPOX']:\n",
    "    rozne_hodnoty.add(value)\n",
    "    \n",
    "print(rozne_hodnoty)\n",
    "# df['HAD_CPOX']\n",
    "\n",
    "df['P_NUMVRC'].dropna()"
   ]
  },
  {
   "cell_type": "code",
   "execution_count": 11,
   "metadata": {},
   "outputs": [
    {
     "name": "stdout",
     "output_type": "stream",
     "text": [
      "68 53\n",
      "7028 6802\n",
      "68 53\n",
      "7028 6802\n",
      "0.009675583380762664\n",
      "0.0077918259335489565\n"
     ]
    }
   ],
   "source": [
    "had_chickenpox_male = 0\n",
    "had_chickenpox_female = 0\n",
    "didnt_have_chickenpox_male = 0\n",
    "didnt_have_chickenpox_female = 0\n",
    "\n",
    "for index, row in df.iterrows():\n",
    "    if row['P_NUMVRC'] >= 1:\n",
    "        if row['HAD_CPOX'] == 1:\n",
    "            if row['SEX'] == 1:\n",
    "                had_chickenpox_male += 1\n",
    "            elif row['SEX'] == 2:\n",
    "                had_chickenpox_female += 1\n",
    "        elif row['HAD_CPOX'] == 2:\n",
    "            if row['SEX'] == 1:\n",
    "                didnt_have_chickenpox_male += 1\n",
    "            elif row['SEX'] == 2:\n",
    "                didnt_have_chickenpox_female += 1\n",
    "\n",
    "# print(had_chickenpox)\n",
    "# print(didnt_have_chickenpox)\n",
    "print(had_chickenpox_male, had_chickenpox_female)\n",
    "print(didnt_have_chickenpox_male, didnt_have_chickenpox_female)  \n",
    "\n",
    "# 1 MALE, 2 FEMALE\n",
    "df['SEX'].head()\n",
    "\n",
    "# NAD TYMTO POROZMYSLAT\n",
    "# VECTOROVE OPERACIE SU VZDY LEPSIE V PANDAS\n",
    "\n",
    "# Filtrovanie iba očkovaných detí (aspoň 1 dávka vakcíny)\n",
    "vaccinated = df[df[\"P_NUMVRC\"] >= 1]\n",
    "\n",
    "# Počet očkovaných detí podľa pohlavia a toho, či mali ovčie kiahne\n",
    "counts = vaccinated.groupby([\"SEX\", \"HAD_CPOX\"]).size().unstack(fill_value=0)\n",
    "\n",
    "# Získanie hodnôt podľa pohlavia\n",
    "had_chickenpox_male = counts.loc[1, 1] if 1 in counts.index else 0\n",
    "had_chickenpox_female = counts.loc[2, 1] if 2 in counts.index else 0\n",
    "didnt_have_chickenpox_male = counts.loc[1, 2] if 1 in counts.index else 0\n",
    "didnt_have_chickenpox_female = counts.loc[2, 2] if 2 in counts.index else 0\n",
    "\n",
    "print(had_chickenpox_male, had_chickenpox_female)\n",
    "print(didnt_have_chickenpox_male, didnt_have_chickenpox_female)  \n",
    "\n",
    "print(had_chickenpox_male / didnt_have_chickenpox_male)\n",
    "print(had_chickenpox_female / didnt_have_chickenpox_female)"
   ]
  },
  {
   "cell_type": "code",
   "execution_count": 10,
   "metadata": {},
   "outputs": [
    {
     "name": "stdout",
     "output_type": "stream",
     "text": [
      "HAD_CPOX  1     2   77\n",
      "SEX                   \n",
      "1         68  7028  22\n",
      "2         53  6802  22\n"
     ]
    }
   ],
   "source": [
    "vaccinated = df[df[\"P_NUMVRC\"] >= 1]\n",
    "# print(vaccinated)\n",
    "\n",
    "counts = vaccinated.groupby([\"SEX\", \"HAD_CPOX\"]).size().unstack(fill_value=0)\n",
    "print(counts)"
   ]
  },
  {
   "cell_type": "code",
   "execution_count": 27,
   "metadata": {
    "deletable": false,
    "nbgrader": {
     "cell_type": "code",
     "checksum": "b4d1b58acae002bc73eb0b19f95bc4af",
     "grade": false,
     "grade_id": "cell-a0a9e6fe67698006",
     "locked": false,
     "schema_version": 3,
     "solution": true
    }
   },
   "outputs": [],
   "source": [
    "def chickenpox_by_sex():\n",
    "    # Filtrovanie iba očkovaných detí (aspoň 1 dávka vakcíny)\n",
    "    vaccinated = df[df[\"P_NUMVRC\"] >= 1]\n",
    "\n",
    "    # Počet očkovaných detí podľa pohlavia a toho, či mali ovčie kiahne\n",
    "    counts = vaccinated.groupby([\"SEX\", \"HAD_CPOX\"]).size().unstack(fill_value=0)\n",
    "\n",
    "    # Získanie hodnôt podľa pohlavia\n",
    "    had_chickenpox_male = counts.loc[1, 1] if 1 in counts.index else 0\n",
    "    had_chickenpox_female = counts.loc[2, 1] if 2 in counts.index else 0\n",
    "    didnt_have_chickenpox_male = counts.loc[1, 2] if 1 in counts.index else 0\n",
    "    didnt_have_chickenpox_female = counts.loc[2, 2] if 2 in counts.index else 0\n",
    "\n",
    "    result_male = had_chickenpox_male / didnt_have_chickenpox_male\n",
    "    result_female = had_chickenpox_female / didnt_have_chickenpox_female\n",
    "    \n",
    "    result = {\"male\":result_male,\n",
    "              \"female\":result_female}\n",
    "    \n",
    "    return result\n",
    "    # raise NotImplementedError()"
   ]
  },
  {
   "cell_type": "code",
   "execution_count": 28,
   "metadata": {
    "deletable": false,
    "editable": false,
    "nbgrader": {
     "cell_type": "code",
     "checksum": "1b6a113a633c55699ae478a3a9ee9c33",
     "grade": true,
     "grade_id": "cell-c4f1714db100c865",
     "locked": true,
     "points": 1,
     "schema_version": 3,
     "solution": false
    }
   },
   "outputs": [],
   "source": [
    "assert len(chickenpox_by_sex())==2, \"Return a dictionary with two items, the first for males and the second for females.\"\n"
   ]
  },
  {
   "cell_type": "markdown",
   "metadata": {},
   "source": [
    "## Question 4\n",
    "A correlation is a statistical relationship between two variables. If we wanted to know if vaccines work, we might look at the correlation between the use of the vaccine and whether it results in prevention of the infection or disease [1]. In this question, you are to see if there is a correlation between having had the chicken pox and the number of chickenpox vaccine doses given (varicella).\n",
    "\n",
    "Some notes on interpreting the answer. The `had_chickenpox_column` is either `1` (for yes) or `2` (for no), and the `num_chickenpox_vaccine_column` is the number of doses a child has been given of the varicella vaccine. A positive correlation (e.g., `corr > 0`) means that an increase in `had_chickenpox_column` (which means more no’s) would also increase the values of `num_chickenpox_vaccine_column` (which means more doses of vaccine). If there is a negative correlation (e.g., `corr < 0`), it indicates that having had chickenpox is related to an increase in the number of vaccine doses.\n",
    "\n",
    "Also, `pval` is the probability that we observe a correlation between `had_chickenpox_column` and `num_chickenpox_vaccine_column` which is greater than or equal to a particular value occurred by chance. A small `pval` means that the observed correlation is highly unlikely to occur by chance. In this case, `pval` should be very small (will end in `e-18` indicating a very small number).\n",
    "\n",
    "[1] This isn’t really the full picture, since we are not looking at when the dose was given. It’s possible that children had chickenpox and then their parents went to get them the vaccine. Does this dataset have the data we would need to investigate the timing of the dose?"
   ]
  },
  {
   "cell_type": "code",
   "execution_count": 44,
   "metadata": {},
   "outputs": [
    {
     "name": "stdout",
     "output_type": "stream",
     "text": [
      "15286\n"
     ]
    }
   ],
   "source": [
    "import scipy.stats as stats\n",
    "import numpy as np\n",
    "import pandas as pd\n",
    "\n",
    "import pandas as pd\n",
    "\n",
    "df = pd.read_csv('assets/NISPUF17.csv')\n",
    "\n",
    "df = df.dropna(subset=[\"HAD_CPOX\", \"P_NUMVRC\"])\n",
    "df = df[df[\"HAD_CPOX\"].isin([1, 2])]\n",
    "print(len(df))\n",
    "    "
   ]
  },
  {
   "cell_type": "code",
   "execution_count": 50,
   "metadata": {
    "deletable": false,
    "nbgrader": {
     "cell_type": "code",
     "checksum": "3e645859949447913cd11d30eb33cb1e",
     "grade": false,
     "grade_id": "cell-8afff07f564cf79a",
     "locked": false,
     "schema_version": 3,
     "solution": true
    }
   },
   "outputs": [],
   "source": [
    "def corr_chickenpox():\n",
    "    import scipy.stats as stats\n",
    "    import numpy as np\n",
    "    import pandas as pd\n",
    "    \n",
    "    df = pd.read_csv('assets/NISPUF17.csv')\n",
    "    df = df.dropna(subset=[\"HAD_CPOX\", \"P_NUMVRC\"])\n",
    "    df = df[df[\"HAD_CPOX\"].isin([1, 2])]\n",
    "    \n",
    "    # correlation\n",
    "    corr, pval=stats.pearsonr(df[\"HAD_CPOX\"],df[\"P_NUMVRC\"])\n",
    "    \n",
    "    # just return the correlation\n",
    "    return corr\n",
    "\n",
    "    # YOUR CODE HERE\n",
    "    # raise NotImplementedError()"
   ]
  },
  {
   "cell_type": "code",
   "execution_count": 51,
   "metadata": {},
   "outputs": [
    {
     "name": "stdout",
     "output_type": "stream",
     "text": [
      "0.07044873460147986\n"
     ]
    }
   ],
   "source": [
    "import scipy.stats as stats\n",
    "import numpy as np\n",
    "import pandas as pd\n",
    "    \n",
    "df = df.dropna(subset=[\"HAD_CPOX\", \"P_NUMVRC\"])\n",
    "df = df[df[\"HAD_CPOX\"].isin([1, 2])]\n",
    "    \n",
    "# here is some stub code to actually run the correlation\n",
    "corr, pval=stats.pearsonr(df[\"HAD_CPOX\"],df[\"P_NUMVRC\"])\n",
    "\n",
    "print(corr)"
   ]
  },
  {
   "cell_type": "code",
   "execution_count": 52,
   "metadata": {},
   "outputs": [
    {
     "data": {
      "text/plain": [
       "3        2\n",
       "4        2\n",
       "6        2\n",
       "7        2\n",
       "8        1\n",
       "        ..\n",
       "28446    2\n",
       "28447    2\n",
       "28449    2\n",
       "28452    2\n",
       "28454    2\n",
       "Name: HAD_CPOX, Length: 15286, dtype: int64"
      ]
     },
     "execution_count": 52,
     "metadata": {},
     "output_type": "execute_result"
    }
   ],
   "source": [
    "df[\"HAD_CPOX\"]"
   ]
  },
  {
   "cell_type": "code",
   "execution_count": 53,
   "metadata": {
    "deletable": false,
    "editable": false,
    "nbgrader": {
     "cell_type": "code",
     "checksum": "ac50ccb747b99f6bbcc76da017e66528",
     "grade": true,
     "grade_id": "cell-73408733533a29a5",
     "locked": true,
     "points": 1,
     "schema_version": 3,
     "solution": false
    }
   },
   "outputs": [],
   "source": [
    "assert -1<=corr_chickenpox()<=1, \"You must return a float number between -1.0 and 1.0.\"\n"
   ]
  },
  {
   "cell_type": "code",
   "execution_count": null,
   "metadata": {},
   "outputs": [],
   "source": []
  }
 ],
 "metadata": {
  "anaconda-cloud": {},
  "etc_active_cell": 6,
  "hide_code_all_hidden": false,
  "kernelspec": {
   "display_name": "Python 3 (ipykernel)",
   "language": "python",
   "name": "python3"
  },
  "language_info": {
   "codemirror_mode": {
    "name": "ipython",
    "version": 3
   },
   "file_extension": ".py",
   "mimetype": "text/x-python",
   "name": "python",
   "nbconvert_exporter": "python",
   "pygments_lexer": "ipython3",
   "version": "3.9.13"
  }
 },
 "nbformat": 4,
 "nbformat_minor": 4
}
